{
 "cells": [
  {
   "cell_type": "code",
   "execution_count": 1,
   "id": "a61e73ca",
   "metadata": {},
   "outputs": [],
   "source": [
    "import pandas as pd\n",
    "import pickle\n",
    "import seaborn as sns\n",
    "import matplotlib.pyplot as plt\n",
    "import numpy as np\n",
    "from sklearn.linear_model import LogisticRegression\n",
    "from sklearn.metrics import accuracy_score,confusion_matrix,roc_auc_score,roc_curve\n",
    "from sklearn.svm import SVC\n",
    "import warnings\n",
    "warnings.filterwarnings('ignore')"
   ]
  },
  {
   "cell_type": "code",
   "execution_count": 2,
   "id": "e02ab925",
   "metadata": {},
   "outputs": [],
   "source": [
    "preprocess_model = pickle.load(open('preprocess_model.pkl','rb'))"
   ]
  },
  {
   "cell_type": "markdown",
   "id": "badec532",
   "metadata": {},
   "source": [
    "Restoring data from pickel file to variable"
   ]
  },
  {
   "cell_type": "code",
   "execution_count": 3,
   "id": "fcd33203",
   "metadata": {},
   "outputs": [],
   "source": [
    "x_train = preprocess_model[0]\n",
    "y_train = preprocess_model[1]\n",
    "x_test = preprocess_model[2]\n",
    "y_test = preprocess_model[3]"
   ]
  },
  {
   "cell_type": "markdown",
   "id": "057e9278",
   "metadata": {},
   "source": [
    "# Applying logistic regression"
   ]
  },
  {
   "cell_type": "code",
   "execution_count": 4,
   "id": "434808d0",
   "metadata": {},
   "outputs": [],
   "source": [
    "logistic = LogisticRegression()"
   ]
  },
  {
   "cell_type": "code",
   "execution_count": 5,
   "id": "4147ec00",
   "metadata": {},
   "outputs": [
    {
     "data": {
      "text/plain": [
       "LogisticRegression()"
      ]
     },
     "execution_count": 5,
     "metadata": {},
     "output_type": "execute_result"
    }
   ],
   "source": [
    "logistic.fit(x_train,y_train)"
   ]
  },
  {
   "cell_type": "code",
   "execution_count": 6,
   "id": "607552db",
   "metadata": {},
   "outputs": [],
   "source": [
    "logi_pred = logistic.predict(x_test)"
   ]
  },
  {
   "cell_type": "markdown",
   "id": "a7d7db97",
   "metadata": {},
   "source": [
    "test accuracy"
   ]
  },
  {
   "cell_type": "code",
   "execution_count": 7,
   "id": "3cf647bd",
   "metadata": {},
   "outputs": [],
   "source": [
    "logi_accu = accuracy_score(y_test,logi_pred)"
   ]
  },
  {
   "cell_type": "code",
   "execution_count": 8,
   "id": "056c0b6c",
   "metadata": {},
   "outputs": [
    {
     "data": {
      "text/plain": [
       "0.8332328712075547"
      ]
     },
     "execution_count": 8,
     "metadata": {},
     "output_type": "execute_result"
    }
   ],
   "source": [
    "logi_accu"
   ]
  },
  {
   "cell_type": "markdown",
   "id": "db608584",
   "metadata": {},
   "source": [
    "roc_auc score"
   ]
  },
  {
   "cell_type": "code",
   "execution_count": 9,
   "id": "7296c353",
   "metadata": {},
   "outputs": [
    {
     "data": {
      "text/plain": [
       "0.7282070017837572"
      ]
     },
     "execution_count": 9,
     "metadata": {},
     "output_type": "execute_result"
    }
   ],
   "source": [
    "roc_auc_score(y_test,logi_pred)"
   ]
  },
  {
   "cell_type": "markdown",
   "id": "2691b784",
   "metadata": {},
   "source": [
    "Now applying gridsearchcv for hyperparameter tuning"
   ]
  },
  {
   "cell_type": "code",
   "execution_count": 10,
   "id": "9512131a",
   "metadata": {},
   "outputs": [],
   "source": [
    "from sklearn import svm, datasets\n",
    "from sklearn.model_selection import GridSearchCV"
   ]
  },
  {
   "cell_type": "code",
   "execution_count": 11,
   "id": "bcd338c6",
   "metadata": {},
   "outputs": [],
   "source": [
    "params = {'solver':['newton_cg','lbfgs','liblinear','sag','saga']}"
   ]
  },
  {
   "cell_type": "code",
   "execution_count": 12,
   "id": "1acfc541",
   "metadata": {},
   "outputs": [],
   "source": [
    "grid = GridSearchCV(estimator=logistic,param_grid=params,cv=10,n_jobs=-1,verbose=True)"
   ]
  },
  {
   "cell_type": "code",
   "execution_count": 13,
   "id": "5503cdec",
   "metadata": {},
   "outputs": [
    {
     "name": "stdout",
     "output_type": "stream",
     "text": [
      "Fitting 10 folds for each of 5 candidates, totalling 50 fits\n"
     ]
    },
    {
     "data": {
      "text/plain": [
       "GridSearchCV(cv=10, estimator=LogisticRegression(), n_jobs=-1,\n",
       "             param_grid={'solver': ['newton_cg', 'lbfgs', 'liblinear', 'sag',\n",
       "                                    'saga']},\n",
       "             verbose=True)"
      ]
     },
     "execution_count": 13,
     "metadata": {},
     "output_type": "execute_result"
    }
   ],
   "source": [
    "grid.fit(x_train,y_train)"
   ]
  },
  {
   "cell_type": "code",
   "execution_count": 14,
   "id": "b6051b8b",
   "metadata": {},
   "outputs": [
    {
     "data": {
      "text/plain": [
       "LogisticRegression()"
      ]
     },
     "execution_count": 14,
     "metadata": {},
     "output_type": "execute_result"
    }
   ],
   "source": [
    "grid.best_estimator_"
   ]
  },
  {
   "cell_type": "code",
   "execution_count": 15,
   "id": "dbed9b76",
   "metadata": {},
   "outputs": [
    {
     "data": {
      "text/plain": [
       "0.8254065480768759"
      ]
     },
     "execution_count": 15,
     "metadata": {},
     "output_type": "execute_result"
    }
   ],
   "source": [
    "grid.best_score_"
   ]
  },
  {
   "cell_type": "markdown",
   "id": "f8f9b32c",
   "metadata": {},
   "source": [
    "Now applying best parameter in logistic regression"
   ]
  },
  {
   "cell_type": "code",
   "execution_count": 16,
   "id": "1e8d7a9e",
   "metadata": {},
   "outputs": [],
   "source": [
    "log_model = LogisticRegression(solver='sag')"
   ]
  },
  {
   "cell_type": "code",
   "execution_count": 17,
   "id": "4a9599c0",
   "metadata": {},
   "outputs": [
    {
     "data": {
      "text/plain": [
       "LogisticRegression(solver='sag')"
      ]
     },
     "execution_count": 17,
     "metadata": {},
     "output_type": "execute_result"
    }
   ],
   "source": [
    "log_model.fit(x_train,y_train)"
   ]
  },
  {
   "cell_type": "code",
   "execution_count": 18,
   "id": "cc6c67f4",
   "metadata": {},
   "outputs": [],
   "source": [
    "log_model_pred = log_model.predict(x_test)"
   ]
  },
  {
   "cell_type": "markdown",
   "id": "e7b565f7",
   "metadata": {},
   "source": [
    "accuracy"
   ]
  },
  {
   "cell_type": "code",
   "execution_count": 19,
   "id": "dc1be148",
   "metadata": {},
   "outputs": [
    {
     "data": {
      "text/plain": [
       "0.8332328712075547"
      ]
     },
     "execution_count": 19,
     "metadata": {},
     "output_type": "execute_result"
    }
   ],
   "source": [
    "accuracy_score(y_test,log_model_pred)"
   ]
  },
  {
   "cell_type": "markdown",
   "id": "03242f62",
   "metadata": {},
   "source": [
    "roc_auc score"
   ]
  },
  {
   "cell_type": "code",
   "execution_count": 20,
   "id": "7733b89c",
   "metadata": {},
   "outputs": [
    {
     "data": {
      "text/plain": [
       "0.7282070017837572"
      ]
     },
     "execution_count": 20,
     "metadata": {},
     "output_type": "execute_result"
    }
   ],
   "source": [
    "roc_auc_score(y_test,log_model_pred)"
   ]
  },
  {
   "cell_type": "markdown",
   "id": "86ca6023",
   "metadata": {},
   "source": [
    "confusion matrix"
   ]
  },
  {
   "cell_type": "code",
   "execution_count": 21,
   "id": "8bd8ad2b",
   "metadata": {},
   "outputs": [],
   "source": [
    "confusion = confusion_matrix(y_test,log_model_pred)"
   ]
  },
  {
   "cell_type": "code",
   "execution_count": 22,
   "id": "eb94d858",
   "metadata": {},
   "outputs": [],
   "source": [
    "tp = confusion[0][0]\n",
    "tn = confusion[1][1]\n",
    "fp = confusion[0][1]\n",
    "fn = confusion[1][0]\n"
   ]
  },
  {
   "cell_type": "code",
   "execution_count": 23,
   "id": "9102fa87",
   "metadata": {},
   "outputs": [],
   "source": [
    "precision = tp/(tp+fp)"
   ]
  },
  {
   "cell_type": "code",
   "execution_count": 24,
   "id": "89ef1bb7",
   "metadata": {},
   "outputs": [
    {
     "data": {
      "text/plain": [
       "0.9349766822118588"
      ]
     },
     "execution_count": 24,
     "metadata": {},
     "output_type": "execute_result"
    }
   ],
   "source": [
    "precision"
   ]
  },
  {
   "cell_type": "code",
   "execution_count": 25,
   "id": "fb43c009",
   "metadata": {},
   "outputs": [],
   "source": [
    "Recall = tp/(tp+fn)"
   ]
  },
  {
   "cell_type": "code",
   "execution_count": 26,
   "id": "8ef12689",
   "metadata": {},
   "outputs": [
    {
     "data": {
      "text/plain": [
       "0.8568811820735133"
      ]
     },
     "execution_count": 26,
     "metadata": {},
     "output_type": "execute_result"
    }
   ],
   "source": [
    "Recall"
   ]
  },
  {
   "cell_type": "code",
   "execution_count": null,
   "id": "1055d6ab",
   "metadata": {},
   "outputs": [],
   "source": []
  },
  {
   "cell_type": "code",
   "execution_count": 27,
   "id": "c811c0bb",
   "metadata": {},
   "outputs": [
    {
     "name": "stdout",
     "output_type": "stream",
     "text": [
      "Ensemble test roc-auc: 0.8752013697687318\n"
     ]
    }
   ],
   "source": [
    "pred=[]\n",
    "#for model in [rf_model,log_classifier,ada_classifier,knn_classifier]:\n",
    "for model in [log_model]:\n",
    "    pred.append(pd.Series(model.predict_proba(x_test)[:,1]))\n",
    "final_prediction=pd.concat(pred,axis=1).mean(axis=1)\n",
    "print('Ensemble test roc-auc: {}'.format(roc_auc_score(y_test,final_prediction)))"
   ]
  },
  {
   "cell_type": "code",
   "execution_count": 28,
   "id": "901759c7",
   "metadata": {},
   "outputs": [
    {
     "data": {
      "text/plain": [
       "array([2.00000000e+00, 1.00000000e+00, 1.00000000e+00, ...,\n",
       "       1.90583888e-03, 1.89910597e-03, 5.46960750e-04])"
      ]
     },
     "execution_count": 28,
     "metadata": {},
     "output_type": "execute_result"
    }
   ],
   "source": [
    "fpr , tpr  , thresholds = roc_curve(y_test,final_prediction)\n",
    "thresholds"
   ]
  },
  {
   "cell_type": "code",
   "execution_count": 29,
   "id": "58d9eda6",
   "metadata": {},
   "outputs": [
    {
     "data": {
      "text/html": [
       "<div>\n",
       "<style scoped>\n",
       "    .dataframe tbody tr th:only-of-type {\n",
       "        vertical-align: middle;\n",
       "    }\n",
       "\n",
       "    .dataframe tbody tr th {\n",
       "        vertical-align: top;\n",
       "    }\n",
       "\n",
       "    .dataframe thead th {\n",
       "        text-align: right;\n",
       "    }\n",
       "</style>\n",
       "<table border=\"1\" class=\"dataframe\">\n",
       "  <thead>\n",
       "    <tr style=\"text-align: right;\">\n",
       "      <th></th>\n",
       "      <th>thresholds</th>\n",
       "      <th>accuracy</th>\n",
       "    </tr>\n",
       "  </thead>\n",
       "  <tbody>\n",
       "    <tr>\n",
       "      <th>665</th>\n",
       "      <td>0.502925</td>\n",
       "      <td>0.833735</td>\n",
       "    </tr>\n",
       "    <tr>\n",
       "      <th>659</th>\n",
       "      <td>0.507225</td>\n",
       "      <td>0.833635</td>\n",
       "    </tr>\n",
       "    <tr>\n",
       "      <th>660</th>\n",
       "      <td>0.506887</td>\n",
       "      <td>0.833635</td>\n",
       "    </tr>\n",
       "    <tr>\n",
       "      <th>658</th>\n",
       "      <td>0.507801</td>\n",
       "      <td>0.833635</td>\n",
       "    </tr>\n",
       "    <tr>\n",
       "      <th>657</th>\n",
       "      <td>0.508234</td>\n",
       "      <td>0.833534</td>\n",
       "    </tr>\n",
       "  </tbody>\n",
       "</table>\n",
       "</div>"
      ],
      "text/plain": [
       "     thresholds  accuracy\n",
       "665    0.502925  0.833735\n",
       "659    0.507225  0.833635\n",
       "660    0.506887  0.833635\n",
       "658    0.507801  0.833635\n",
       "657    0.508234  0.833534"
      ]
     },
     "execution_count": 29,
     "metadata": {},
     "output_type": "execute_result"
    }
   ],
   "source": [
    "from sklearn.metrics import accuracy_score\n",
    "accuracy_ls = []\n",
    "for thres in thresholds:\n",
    "    y_pred = np.where(final_prediction>thres,1,0)\n",
    "    accuracy_ls.append(accuracy_score(y_test, y_pred, normalize=True))\n",
    "    \n",
    "accuracy_ls = pd.concat([pd.Series(thresholds), pd.Series(accuracy_ls)],\n",
    "                        axis=1)\n",
    "accuracy_ls.columns = ['thresholds', 'accuracy']\n",
    "accuracy_ls.sort_values(by='accuracy', ascending=False, inplace=True)\n",
    "accuracy_ls.head()"
   ]
  },
  {
   "cell_type": "code",
   "execution_count": 30,
   "id": "a5bae36e",
   "metadata": {},
   "outputs": [],
   "source": [
    "def plot_roc_curve(fpr, tpr):\n",
    "    plt.plot(fpr, tpr, color='orange', label='ROC')\n",
    "    plt.plot([0, 1], [0, 1], color='darkblue', linestyle='--')\n",
    "    plt.xlabel('False Positive Rate')\n",
    "    plt.ylabel('True Positive Rate')\n",
    "    plt.title('Receiver Operating Characteristic (ROC) Curve')\n",
    "    plt.legend()\n",
    "    plt.show()"
   ]
  },
  {
   "cell_type": "code",
   "execution_count": 31,
   "id": "2d873acc",
   "metadata": {},
   "outputs": [
    {
     "data": {
      "image/png": "[encoded data removed]",
      "text/plain": [
       "<Figure size 432x288 with 1 Axes>"
      ]
     },
     "metadata": {
      "needs_background": "light"
     },
     "output_type": "display_data"
    }
   ],
   "source": [
    "plot_roc_curve(fpr,tpr)"
   ]
  },
  {
   "cell_type": "markdown",
   "id": "e594eebc",
   "metadata": {},
   "source": [
    "# Applying support vector classifier"
   ]
  },
  {
   "cell_type": "code",
   "execution_count": 32,
   "id": "84c67db0",
   "metadata": {},
   "outputs": [],
   "source": [
    "svc = SVC()"
   ]
  },
  {
   "cell_type": "code",
   "execution_count": 33,
   "id": "53c3d9d5",
   "metadata": {},
   "outputs": [
    {
     "data": {
      "text/plain": [
       "SVC()"
      ]
     },
     "execution_count": 33,
     "metadata": {},
     "output_type": "execute_result"
    }
   ],
   "source": [
    "svc.fit(x_train,y_train)"
   ]
  },
  {
   "cell_type": "code",
   "execution_count": 34,
   "id": "55891271",
   "metadata": {},
   "outputs": [],
   "source": [
    "svc_pred = svc.predict(x_test)"
   ]
  },
  {
   "cell_type": "markdown",
   "id": "4527a7be",
   "metadata": {},
   "source": [
    "Accuracy"
   ]
  },
  {
   "cell_type": "code",
   "execution_count": 35,
   "id": "b8118fbe",
   "metadata": {},
   "outputs": [],
   "source": [
    "accuracy = accuracy_score(y_test,svc_pred)"
   ]
  },
  {
   "cell_type": "code",
   "execution_count": 36,
   "id": "835dbc08",
   "metadata": {},
   "outputs": [
    {
     "data": {
      "text/plain": [
       "0.8465943339361061"
      ]
     },
     "execution_count": 36,
     "metadata": {},
     "output_type": "execute_result"
    }
   ],
   "source": [
    "accuracy"
   ]
  },
  {
   "cell_type": "markdown",
   "id": "88e65991",
   "metadata": {},
   "source": [
    "confusion matrix"
   ]
  },
  {
   "cell_type": "code",
   "execution_count": 37,
   "id": "824c77cb",
   "metadata": {},
   "outputs": [],
   "source": [
    "confusion = confusion_matrix(y_test,svc_pred)"
   ]
  },
  {
   "cell_type": "code",
   "execution_count": 38,
   "id": "9ccc9ecc",
   "metadata": {},
   "outputs": [],
   "source": [
    "tp = confusion[0][0]\n",
    "tn = confusion[1][1]\n",
    "fp = confusion[0][1]\n",
    "fn = confusion[1][0]"
   ]
  },
  {
   "cell_type": "code",
   "execution_count": 39,
   "id": "3bafbe70",
   "metadata": {},
   "outputs": [],
   "source": [
    "precision = tp/(tp+fp)"
   ]
  },
  {
   "cell_type": "code",
   "execution_count": 40,
   "id": "9196e7d8",
   "metadata": {},
   "outputs": [
    {
     "data": {
      "text/plain": [
       "0.9467021985343105"
      ]
     },
     "execution_count": 40,
     "metadata": {},
     "output_type": "execute_result"
    }
   ],
   "source": [
    "precision"
   ]
  },
  {
   "cell_type": "code",
   "execution_count": 41,
   "id": "d830c1a3",
   "metadata": {},
   "outputs": [],
   "source": [
    "Recall = tp/(tp+fn)"
   ]
  },
  {
   "cell_type": "code",
   "execution_count": 42,
   "id": "868c530c",
   "metadata": {},
   "outputs": [
    {
     "data": {
      "text/plain": [
       "0.8630952380952381"
      ]
     },
     "execution_count": 42,
     "metadata": {},
     "output_type": "execute_result"
    }
   ],
   "source": [
    "Recall"
   ]
  }
 ],
 "metadata": {
  "kernelspec": {
   "display_name": "Python 3 (ipykernel)",
   "language": "python",
   "name": "python3"
  },
  "language_info": {
   "codemirror_mode": {
    "name": "ipython",
    "version": 3
   },
   "file_extension": ".py",
   "mimetype": "text/x-python",
   "name": "python",
   "nbconvert_exporter": "python",
   "pygments_lexer": "ipython3",
   "version": "3.9.12"
  }
 },
 "nbformat": 4,
 "nbformat_minor": 5
}
